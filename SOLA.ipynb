{
 "cells": [
  {
   "cell_type": "code",
   "execution_count": 373,
   "metadata": {},
   "outputs": [],
   "source": [
    "import os\n",
    "import numpy as np\n",
    "from scipy import (integrate, optimize as op,interpolate as ip)\n",
    "import scipy\n",
    "from astropy import units as u\n",
    "from astropy.table import Table\n",
    "from glob import glob\n",
    "\n",
    "import george\n",
    "from george import kernels\n",
    "\n",
    "import matplotlib.pyplot as plt\n",
    "\n",
    "np.random.seed(0)\n",
    "\n"
   ]
  },
  {
   "cell_type": "code",
   "execution_count": 374,
   "metadata": {},
   "outputs": [],
   "source": [
    "x = np.loadtxt(\"x\", skiprows=1)\n",
    "flatx = x.flatten()"
   ]
  },
  {
   "cell_type": "code",
   "execution_count": 375,
   "metadata": {},
   "outputs": [
    {
     "data": {
      "text/plain": [
       "array([0.        , 0.00113988, 0.00149608, ..., 1.00070685, 1.0007097 ,\n",
       "       1.00071255])"
      ]
     },
     "execution_count": 375,
     "metadata": {},
     "output_type": "execute_result"
    }
   ],
   "source": [
    "flatx"
   ]
  },
  {
   "cell_type": "code",
   "execution_count": 376,
   "metadata": {},
   "outputs": [],
   "source": [
    "# Load betas.\n",
    "def construct_beta_matrix(beta_table):\n",
    "    ls = np.unique(beta_table[\"l\"]).size\n",
    "    ns = np.unique(beta_table[\"n\"]).size\n",
    "\n",
    "    beta = np.nan * np.ones((ls, ns))\n",
    "    for row in beta_table:\n",
    "        beta[row[\"l\"] - 1, row[\"n\"] - 1] = row[\"beta\"]\n",
    "    \n",
    "    return beta\n",
    "\n",
    "beta_table = Table.read(\"beta.dat\", format=\"ascii\")\n",
    "beta = construct_beta_matrix(beta_table)"
   ]
  },
  {
   "cell_type": "code",
   "execution_count": 377,
   "metadata": {},
   "outputs": [],
   "source": [
    "beta_flat = beta[:,10:27].flatten()"
   ]
  },
  {
   "cell_type": "code",
   "execution_count": 378,
   "metadata": {},
   "outputs": [
    {
     "data": {
      "text/plain": [
       "(51,)"
      ]
     },
     "execution_count": 378,
     "metadata": {},
     "output_type": "execute_result"
    }
   ],
   "source": [
    "beta_flat.shape"
   ]
  },
  {
   "cell_type": "code",
   "execution_count": 379,
   "metadata": {},
   "outputs": [],
   "source": [
    "freq_table = Table.read(\"freq.dat\", format=\"ascii\")\n",
    "\n",
    "omega_sampling = 100\n",
    "l_degrees = (1, 2, 3) # TODO, this is hard coded elsewhere too\n",
    "\n",
    "# TODO: why we do this?\n",
    "n_lower, n_upper = (9, 27)\n",
    "freq_nl = freq_table[(n_upper > freq_table[\"n\"]) * (freq_table[\"n\"] > n_lower)]\n",
    "\n",
    "flat_frequencies = np.hstack(\n",
    "    [freq_nl[\"Freqs\"][freq_nl[\"l\"] == l] for l in l_degrees]\n",
    ")\n",
    "\n",
    "\n",
    "flat_splitting = np.hstack(\n",
    "    [freq_nl[\"delta\"][freq_nl[\"l\"] == l] for l in l_degrees]\n",
    ")\n",
    "\n",
    "flat_err = np.hstack(\n",
    "    [freq_nl[\"e_delta\"][freq_nl[\"l\"] == l] for l in l_degrees]\n",
    ")"
   ]
  },
  {
   "cell_type": "code",
   "execution_count": 380,
   "metadata": {},
   "outputs": [],
   "source": [
    "flat_err = flat_err/1e9"
   ]
  },
  {
   "cell_type": "code",
   "execution_count": 381,
   "metadata": {},
   "outputs": [],
   "source": [
    "datas = flat_splitting/beta_flat"
   ]
  },
  {
   "cell_type": "code",
   "execution_count": 382,
   "metadata": {},
   "outputs": [],
   "source": [
    "def load_kernels(dirname=\"kerns/\", size=4800):\n",
    "    paths = glob(dirname + \"/l.*_n.*\")\n",
    "    max_l = 1 + max([int(path.split(\".\")[1].split(\"_\")[0]) for path in paths])\n",
    "    max_n = 1 + max([int(path.split(\".\")[-1]) for path in paths])\n",
    "\n",
    "    kerns = np.nan * np.ones((max_l, max_n, size))\n",
    "\n",
    "    for l in range(1 + max_l):\n",
    "        for n in range(1 + max_n):\n",
    "            path = os.path.join(dirname, \"l.{l:.0f}_n.{n:.0f}\".format(l=l, n=n))\n",
    "            if not os.path.exists(path):\n",
    "                # TODO: some warning?\n",
    "                continue\n",
    "            \n",
    "            kerns[l, n, :] = np.loadtxt(path, skiprows=1)\n",
    "\n",
    "    return kerns\n",
    "\n",
    "kern = load_kernels()"
   ]
  },
  {
   "cell_type": "code",
   "execution_count": 383,
   "metadata": {},
   "outputs": [],
   "source": [
    "kern_restricted = kern[1:34,10:27,:].flatten()"
   ]
  },
  {
   "cell_type": "code",
   "execution_count": 384,
   "metadata": {},
   "outputs": [],
   "source": [
    "flat_kerns = kern[1:4,10:27,:].reshape(51,4800)"
   ]
  },
  {
   "cell_type": "code",
   "execution_count": 385,
   "metadata": {},
   "outputs": [
    {
     "name": "stderr",
     "output_type": "stream",
     "text": [
      "/Users/tawil10/opt/anaconda3/lib/python3.7/site-packages/ipykernel_launcher.py:8: DeprecationWarning: scipy.trapz is deprecated and will be removed in SciPy 2.0.0, use numpy.trapz instead\n",
      "  \n"
     ]
    }
   ],
   "source": [
    "modelS = Table.read('modelS.dat', format=\"ascii\")\n",
    "\n",
    "# acoustic depth: tau(r) = int_r^R 1/c(x) dx (Aerts et al. eqn. 3.228)\n",
    "cs = np.sqrt(modelS['c2'])\n",
    "r  = modelS['r']\n",
    "tau = np.hstack([0, -integrate.cumtrapz(1/cs, r)])\n",
    "\n",
    "avg_c_inv = trapz(-1./cs,r)/np.max(r)\n",
    "w = 1/(np.flip(cs)*avg_c_inv)\n",
    "\n",
    "x[0] = modelS['x'][-1]\n",
    "newtau =  ip.interp1d(modelS['x'], tau)(x)\n",
    "\n",
    "neww = ip.interp1d(modelS['x'], w)(x)\n",
    "\n",
    "# x_diffs = np.zeros_like(newtau)\n",
    "# for j in range(1,len(newtau)):\n",
    "#     x_diffs[j] = np.abs(newtau[j] - newtau[j-1])\n",
    "    \n",
    "\n",
    "x_diffs = np.zeros_like(flatx)\n",
    "for j in range(1,len(flatx)):\n",
    "    x_diffs[j] = np.abs(flatx[j] - flatx[j-1])"
   ]
  },
  {
   "cell_type": "code",
   "execution_count": 386,
   "metadata": {},
   "outputs": [],
   "source": [
    "R = modelS['r'][0]\n",
    "r = R * x"
   ]
  },
  {
   "cell_type": "code",
   "execution_count": 387,
   "metadata": {},
   "outputs": [],
   "source": [
    "eij = np.zeros((51,51))\n",
    "\n",
    "np.fill_diagonal(eij,flat_err)"
   ]
  },
  {
   "cell_type": "code",
   "execution_count": 441,
   "metadata": {},
   "outputs": [
    {
     "name": "stdout",
     "output_type": "stream",
     "text": [
      "[[ 1.          0.          0.         ...  0.          0.\n",
      "   0.        ]\n",
      " [ 1.00000107 -0.00596556  0.4962491  ...  0.53404716  1.\n",
      "   0.        ]\n",
      " [ 0.9999988  -0.01068097  1.         ...  0.          0.\n",
      "   0.        ]\n",
      " ...\n",
      " [ 0.99999364 -0.02018975  0.51517819 ...  0.          0.\n",
      "   0.        ]\n",
      " [ 0.99999044 -0.02023182  0.51169503 ...  0.          0.\n",
      "   0.        ]\n",
      " [ 0.          1.          0.         ...  0.          0.\n",
      "   0.        ]] [[5.14302413e-02 1.00056571e+00 0.00000000e+00 ... 0.00000000e+00\n",
      "  0.00000000e+00 0.00000000e+00]\n",
      " [1.00056571e+00 0.00000000e+00 0.00000000e+00 ... 0.00000000e+00\n",
      "  0.00000000e+00 0.00000000e+00]\n",
      " [0.00000000e+00 0.00000000e+00 3.02741575e-02 ... 0.00000000e+00\n",
      "  0.00000000e+00 0.00000000e+00]\n",
      " ...\n",
      " [0.00000000e+00 0.00000000e+00 0.00000000e+00 ... 1.40567372e-10\n",
      "  0.00000000e+00 0.00000000e+00]\n",
      " [0.00000000e+00 0.00000000e+00 0.00000000e+00 ... 0.00000000e+00\n",
      "  8.19369569e-09 0.00000000e+00]\n",
      " [0.00000000e+00 0.00000000e+00 0.00000000e+00 ... 0.00000000e+00\n",
      "  0.00000000e+00 1.26047910e-10]] [ 0 51  2  3  4  5  6  7  8  9 10 11 12 13 14 15 16 17 18 19 20 21 22 23\n",
      " 24 25 26 27 28 29 30 31 32 33 34 35 50 37 38 39 40 41 42 43 44 45 49 47\n",
      " 48 46  1 36]\n",
      "(4800,)\n"
     ]
    },
    {
     "data": {
      "image/png": "[encoded data removed]",
      "text/plain": [
       "<Figure size 432x288 with 1 Axes>"
      ]
     },
     "metadata": {
      "needs_background": "light"
     },
     "output_type": "display_data"
    }
   ],
   "source": [
    "ro = 0.5\n",
    "\n",
    "\n",
    "\n",
    "\n",
    "#optimize alpha from a single point then use this relation for the rest of the stat\n",
    "#scaling_delta = alpha/8 * cs/(R*vmax)\n",
    "scaling_delta = 1e-3\n",
    "\n",
    "tau = 1/(scaling_delta*np.sqrt(2*np.pi)) * np.exp(-0.5*((flatx-ro)/scaling_delta)**2)\n",
    "\n",
    "#Ti = trapz[tau*flatkerns,newtau]\n",
    "\n",
    "Ti = np.ones(52)\n",
    "\n",
    "for i in range(51):\n",
    "    Ti[i] = np.trapz((tau*flat_kerns[i]),flatx)\n",
    "\n",
    "\n",
    "beta= 0.01\n",
    "\n",
    "Kij = np.zeros((52,52))\n",
    "for i in range(51):\n",
    "    for j in range(51):\n",
    "        Kij[i,j] = beta * np.trapz(flat_kerns[i]*flat_kerns[j],flatx)\n",
    "\n",
    "vals = np.dot(x_diffs,flat_kerns.T)\n",
    "Kij[:-1,51] = vals\n",
    "Kij[51,:-1] = vals\n",
    "\n",
    "Kij[51,51] = 0\n",
    "        \n",
    "def aij_matrix(mu):\n",
    "    Aij = Kij.copy()\n",
    "    Aij[0:51,0:51] = Aij[0:51,0:51] + mu*eij\n",
    "    return Aij\n",
    "\n",
    "\n",
    "\n",
    "\n",
    "\n",
    "\n",
    "aij = aij_matrix(1e-3)\n",
    "\n",
    "#print(aij)\n",
    "\n",
    "\n",
    "#ldl decomp try.\n",
    "L_mat,d_mat,lt_mat = scipy.linalg.ldl(aij)\n",
    "print(L_mat,d_mat,lt_mat)\n",
    "\n",
    "c = np.linalg.solve(aij,Ti)\n",
    "\n",
    "\n",
    "\n",
    "\n",
    "\n",
    "#minimize Aij for mu and scaling_delta\n",
    "\n",
    "\n",
    "#invert Aij\n",
    "special_k = np.zeros(4800)\n",
    "rot = 0\n",
    "for i in range(51):\n",
    "    special_k = special_k + c[i]*flat_kerns[i]\n",
    "    rot = rot + c[i] * datas[i]\n",
    "\n",
    "    \n",
    "val = np.trapz(special_k,flatx)\n",
    "\n",
    "plt.plot(flatx,special_k)\n",
    "print(r_0.shape)\n",
    "#plt.plot(flatx,r_0)\n",
    "\n",
    "\n",
    "#print(rot,val)"
   ]
  },
  {
   "cell_type": "code",
   "execution_count": 428,
   "metadata": {},
   "outputs": [
    {
     "data": {
      "text/plain": [
       "[<matplotlib.lines.Line2D at 0x124adca90>]"
      ]
     },
     "execution_count": 428,
     "metadata": {},
     "output_type": "execute_result"
    },
    {
     "data": {
      "image/png": "[encoded data removed]",
      "text/plain": [
       "<Figure size 432x288 with 1 Axes>"
      ]
     },
     "metadata": {
      "needs_background": "light"
     },
     "output_type": "display_data"
    }
   ],
   "source": [
    "plt.plot(flat_kerns[4])\n",
    "#plt.ylim(0,10)"
   ]
  },
  {
   "cell_type": "code",
   "execution_count": 327,
   "metadata": {},
   "outputs": [
    {
     "data": {
      "text/plain": [
       "[<matplotlib.lines.Line2D at 0x12835f410>,\n",
       " <matplotlib.lines.Line2D at 0x12835f610>,\n",
       " <matplotlib.lines.Line2D at 0x12835f7d0>,\n",
       " <matplotlib.lines.Line2D at 0x12835f990>]"
      ]
     },
     "execution_count": 327,
     "metadata": {},
     "output_type": "execute_result"
    },
    {
     "data": {
      "image/png": "[encoded data removed]",
      "text/plain": [
       "<Figure size 432x288 with 1 Axes>"
      ]
     },
     "metadata": {
      "needs_background": "light"
     },
     "output_type": "display_data"
    }
   ],
   "source": [
    "plt.plot(flatx,flat_kerns[1:5].T)"
   ]
  },
  {
   "cell_type": "code",
   "execution_count": 435,
   "metadata": {},
   "outputs": [
    {
     "name": "stderr",
     "output_type": "stream",
     "text": [
      "/Users/tawil10/opt/anaconda3/lib/python3.7/site-packages/ipykernel_launcher.py:2: DeprecationWarning: scipy.trapz is deprecated and will be removed in SciPy 2.0.0, use numpy.trapz instead\n",
      "  \n"
     ]
    },
    {
     "data": {
      "text/plain": [
       "0.9999999957013277"
      ]
     },
     "execution_count": 435,
     "metadata": {},
     "output_type": "execute_result"
    },
    {
     "data": {
      "image/png": "[encoded data removed]",
      "text/plain": [
       "<Figure size 432x288 with 1 Axes>"
      ]
     },
     "metadata": {
      "needs_background": "light"
     },
     "output_type": "display_data"
    }
   ],
   "source": [
    "plt.plot(flatx,tau)\n",
    "scipy.trapz(tau,flatx)"
   ]
  },
  {
   "cell_type": "code",
   "execution_count": 309,
   "metadata": {},
   "outputs": [
    {
     "data": {
      "text/plain": [
       "[<matplotlib.lines.Line2D at 0x12962d3d0>]"
      ]
     },
     "execution_count": 309,
     "metadata": {},
     "output_type": "execute_result"
    },
    {
     "data": {
      "image/png": "[encoded data removed]",
      "text/plain": [
       "<Figure size 432x288 with 1 Axes>"
      ]
     },
     "metadata": {
      "needs_background": "light"
     },
     "output_type": "display_data"
    }
   ],
   "source": [
    "plt.plot(flatx,tau)"
   ]
  },
  {
   "cell_type": "code",
   "execution_count": 411,
   "metadata": {},
   "outputs": [
    {
     "data": {
      "text/plain": [
       "array([-8.67573693e+00,  3.83626106e+03, -1.39390276e+04,  1.58975859e+04,\n",
       "       -1.27882469e+04, -7.67278723e+03, -9.55036724e+04,  2.59932241e+05,\n",
       "       -1.58439699e+05,  1.85156250e+04, -3.65142810e+04,  2.28124698e+04,\n",
       "       -1.94556411e+04,  2.66912813e+04,  1.20577560e+04, -2.07487170e+04,\n",
       "        4.25265950e+03,  1.80432207e+02, -3.92808673e+03,  8.54446945e+03,\n",
       "       -6.72730133e+03,  3.24099729e+03,  1.12135548e+03,  8.45352427e+04,\n",
       "       -1.14181087e+05,  2.25079233e+04, -7.83072665e+03,  1.65327841e+04,\n",
       "       -2.82089457e+03,  1.24557582e+04, -3.75072213e+03, -8.91950049e+03,\n",
       "        3.89761483e+03, -1.90457578e+02, -2.52164267e+03,  1.25099993e+04,\n",
       "       -1.74296988e+04,  1.41180261e+04,  3.82016677e+03,  6.29243315e+04,\n",
       "       -2.53557113e+05,  2.00667363e+05, -2.27111093e+04,  3.31179201e+04,\n",
       "       -2.94514632e+04,  1.50998862e+04, -3.07251025e+04, -7.12829591e+03,\n",
       "        2.33172699e+04, -5.65690898e+03,  1.44383797e+01, -3.42295915e-01])"
      ]
     },
     "execution_count": 411,
     "metadata": {},
     "output_type": "execute_result"
    }
   ],
   "source": [
    "c"
   ]
  },
  {
   "cell_type": "code",
   "execution_count": 412,
   "metadata": {},
   "outputs": [],
   "source": [
    "Ti = np.dot(x_diffs,(tau*flat_kerns).T)"
   ]
  },
  {
   "cell_type": "code",
   "execution_count": 413,
   "metadata": {},
   "outputs": [
    {
     "data": {
      "text/plain": [
       "(4800,)"
      ]
     },
     "execution_count": 413,
     "metadata": {},
     "output_type": "execute_result"
    }
   ],
   "source": [
    "tau.shape"
   ]
  },
  {
   "cell_type": "code",
   "execution_count": 414,
   "metadata": {},
   "outputs": [
    {
     "data": {
      "text/plain": [
       "(51, 4800)"
      ]
     },
     "execution_count": 414,
     "metadata": {},
     "output_type": "execute_result"
    }
   ],
   "source": [
    "flat_kerns.shape"
   ]
  },
  {
   "cell_type": "code",
   "execution_count": 415,
   "metadata": {},
   "outputs": [
    {
     "data": {
      "text/plain": [
       "(51, 4800)"
      ]
     },
     "execution_count": 415,
     "metadata": {},
     "output_type": "execute_result"
    }
   ],
   "source": [
    "(tau*flat_kerns).shape"
   ]
  },
  {
   "cell_type": "code",
   "execution_count": 416,
   "metadata": {},
   "outputs": [
    {
     "data": {
      "text/plain": [
       "array([2.16161336e-01, 1.08205472e+00, 1.34159015e+00, 5.81015000e-01,\n",
       "       2.01656600e-04, 5.41554735e-01, 1.30768763e+00, 1.07366295e+00,\n",
       "       2.06747177e-01, 1.22063300e-01, 9.85765712e-01, 1.35585668e+00,\n",
       "       6.01728255e-01, 1.86620291e-04, 5.85156033e-01, 1.36198588e+00,\n",
       "       9.82938383e-01, 5.23541607e-01, 3.22655715e-02, 5.96189048e-01,\n",
       "       1.34361424e+00, 1.06277747e+00, 2.07714223e-01, 1.30845811e-01,\n",
       "       9.46641759e-01, 1.35995670e+00, 6.77738188e-01, 1.81171581e-02,\n",
       "       4.88125891e-01, 1.30876519e+00, 1.09596383e+00, 2.00564840e-01,\n",
       "       1.55813836e-01, 1.05355581e+00, 1.35993355e+00, 8.42200937e-01,\n",
       "       1.25155705e-01, 3.10298219e-01, 1.12374869e+00, 1.28239914e+00,\n",
       "       5.43943283e-01, 3.60277444e-02, 5.81137794e-01, 1.32902785e+00,\n",
       "       1.05493897e+00, 1.96962471e-01, 1.69833158e-01, 1.03299326e+00,\n",
       "       1.34533682e+00, 5.66924882e-01, 1.83278863e-02])"
      ]
     },
     "execution_count": 416,
     "metadata": {},
     "output_type": "execute_result"
    }
   ],
   "source": [
    "Ti"
   ]
  },
  {
   "cell_type": "code",
   "execution_count": 417,
   "metadata": {},
   "outputs": [
    {
     "data": {
      "text/plain": [
       "-726502.8107830435"
      ]
     },
     "execution_count": 417,
     "metadata": {},
     "output_type": "execute_result"
    }
   ],
   "source": [
    "np.dot(c[:-1],datas)"
   ]
  },
  {
   "cell_type": "code",
   "execution_count": 340,
   "metadata": {},
   "outputs": [
    {
     "data": {
      "text/plain": [
       "(51,)"
      ]
     },
     "execution_count": 340,
     "metadata": {},
     "output_type": "execute_result"
    }
   ],
   "source": [
    "datas.shape"
   ]
  },
  {
   "cell_type": "code",
   "execution_count": 353,
   "metadata": {},
   "outputs": [
    {
     "data": {
      "text/plain": [
       "array([448.32621319, 435.79278777, 445.5330832 , 456.26346453,\n",
       "       433.83121053, 449.67665814, 408.23499764, 451.30194193,\n",
       "       452.13325291, 469.05806692, 456.86977878, 450.71843412,\n",
       "       458.64438377, 461.55233217, 418.32225374, 465.38836567,\n",
       "       457.28380446, 395.74635649, 403.2917601 , 393.78450788,\n",
       "       400.44987819, 397.06736702, 405.86350934, 397.56236856,\n",
       "       409.42938043, 392.14671219, 396.99530591, 398.85879147,\n",
       "       405.75372617, 400.60922335, 400.50422928, 425.48909074,\n",
       "       402.31953106, 424.30602917, 434.00345257, 434.50836732,\n",
       "       432.02678608, 441.73558328, 439.35589443, 440.08095132,\n",
       "       450.92214997, 439.62018409, 444.45374705, 460.35176713,\n",
       "       442.09239513, 445.97248917, 457.88534893, 466.79651731,\n",
       "       441.59203924, 409.38002811, 398.26266702])"
      ]
     },
     "execution_count": 353,
     "metadata": {},
     "output_type": "execute_result"
    }
   ],
   "source": [
    "datas"
   ]
  },
  {
   "cell_type": "code",
   "execution_count": null,
   "metadata": {},
   "outputs": [],
   "source": []
  }
 ],
 "metadata": {
  "kernelspec": {
   "display_name": "Python 3",
   "language": "python",
   "name": "python3"
  },
  "language_info": {
   "codemirror_mode": {
    "name": "ipython",
    "version": 3
   },
   "file_extension": ".py",
   "mimetype": "text/x-python",
   "name": "python",
   "nbconvert_exporter": "python",
   "pygments_lexer": "ipython3",
   "version": "3.7.4"
  }
 },
 "nbformat": 4,
 "nbformat_minor": 2
}
